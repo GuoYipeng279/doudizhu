{
 "metadata": {
  "language_info": {
   "codemirror_mode": {
    "name": "ipython",
    "version": 3
   },
   "file_extension": ".py",
   "mimetype": "text/x-python",
   "name": "python",
   "nbconvert_exporter": "python",
   "pygments_lexer": "ipython3",
   "version": "3.7.7"
  },
  "orig_nbformat": 2,
  "kernelspec": {
   "name": "python377jvsc74a57bd00aa66b553f575c766ebf8dae9865f08740f7a672498c10dd9d6d0f09d940d9df",
   "display_name": "Python 3.7.7 64-bit ('tensorflow': conda)"
  }
 },
 "nbformat": 4,
 "nbformat_minor": 2,
 "cells": [
  {
   "cell_type": "code",
   "execution_count": 2,
   "metadata": {},
   "outputs": [
    {
     "output_type": "execute_result",
     "data": {
      "text/plain": [
       "['asddsa']"
      ]
     },
     "metadata": {},
     "execution_count": 2
    }
   ],
   "source": [
    "'asddsa'.split('_')"
   ]
  },
  {
   "cell_type": "code",
   "execution_count": 6,
   "metadata": {},
   "outputs": [],
   "source": [
    "a=dict([('1',1),('2',2)])"
   ]
  },
  {
   "cell_type": "code",
   "execution_count": 1,
   "metadata": {},
   "outputs": [
    {
     "output_type": "stream",
     "name": "stdout",
     "text": [
      "大王 2 A A K K Q Q 10 10 9 9 8 8 8 7 7 7 6 6 6 6 5 5 4 3 3 \n"
     ]
    }
   ],
   "source": [
    "import cards\n",
    "a=cards.Situation().melst\n",
    "print(a)\n"
   ]
  },
  {
   "cell_type": "code",
   "execution_count": 2,
   "metadata": {},
   "outputs": [
    {
     "output_type": "stream",
     "name": "stdout",
     "text": [
      "['大王', '2', 'A', '对A', 'K', '对K', 'Q', '对Q', 'Q-A连对', '10', '对10', '9', '对9', '8', '对8', '8-10连对', '三个8', '三8带一', '三8带一对', '7', '对7', '7-10连对', '7-9连对', '三个7', '三7带一', '三7带一对', '7-8飞机', '7-8飞机', '7-8飞机', '6', '6-10顺子', '对6', '6-10连对', '6-9连对', '6-8连对', '三个6', '三6带一', '三6带一对', '6-8飞机', '6-8飞机', '6-8飞机', '6-7飞机', '6-7飞机', '6-7飞机', '6炸弹', '四6带二', '四6带两对', '5', '5-10顺子', '5-9顺子', '对5', '5-10连对', '5-9连对', '5-8连对', '5-7连对', '4', '4-10顺子', '4-9顺子', '4-8顺子', '3', '3-10顺子', '3-9顺子', '3-8顺子', '3-7顺子', '对3']\n"
     ]
    }
   ],
   "source": [
    "b=a.getPossible(show=True)"
   ]
  },
  {
   "cell_type": "code",
   "execution_count": null,
   "metadata": {},
   "outputs": [],
   "source": []
  }
 ]
}