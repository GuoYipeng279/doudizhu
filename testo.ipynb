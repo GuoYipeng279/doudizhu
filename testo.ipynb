{
 "cells": [
  {
   "cell_type": "code",
   "execution_count": 2,
   "metadata": {},
   "outputs": [],
   "source": [
    "import scipy as sp\n",
    "import numpy as np\n",
    "import pygroup as pg\n",
    "from itertools import permutations\n",
    "import sys"
   ]
  },
  {
   "cell_type": "code",
   "execution_count": 11,
   "metadata": {},
   "outputs": [
    {
     "output_type": "stream",
     "name": "stdout",
     "text": [
      "1\n2\n"
     ]
    }
   ],
   "source": [
    "for i in np.array([1,2]):\n",
    "    print(i)"
   ]
  },
  {
   "cell_type": "code",
   "execution_count": 34,
   "metadata": {},
   "outputs": [
    {
     "output_type": "execute_result",
     "data": {
      "text/plain": "<numpy.flatiter at 0xd444010>"
     },
     "metadata": {},
     "execution_count": 34
    }
   ],
   "source": [
    "np.array([[1],[2],[3]]).flat"
   ]
  },
  {
   "cell_type": "code",
   "execution_count": 20,
   "metadata": {
    "tags": []
   },
   "outputs": [
    {
     "output_type": "stream",
     "name": "stdout",
     "text": "[[[5]]]\n"
    }
   ],
   "source": [
    "print(np.array([[[1,4],[2,3]],[[1,2],[3,5]]])[np.array([1])].transpose((1,2,0))[np.array([1])].transpose((1,2,0))[np.array([1])])"
   ]
  },
  {
   "cell_type": "code",
   "execution_count": 32,
   "metadata": {},
   "outputs": [
    {
     "output_type": "execute_result",
     "data": {
      "text/plain": "array([['A', '@', 'B'],\n       ['@', 'A', 'C'],\n       ['B', 'C', '@']], dtype='<U1')"
     },
     "metadata": {},
     "execution_count": 32
    }
   ],
   "source": [
    "np.array([['@','C','B'],\n",
    " ['C','A','@'],\n",
    " ['B','@','A']]).T[np.array((2,1,0))].T[np.array((2,1,0))]"
   ]
  },
  {
   "cell_type": "code",
   "execution_count": 42,
   "metadata": {
    "tags": []
   },
   "outputs": [
    {
     "output_type": "stream",
     "name": "stdout",
     "text": "1.0\n1.0\n144.0\n3657830400.0\n7.600054456551997e+23\n"
    }
   ],
   "source": [
    "import math\n",
    "for i in range(0,5):\n",
    "    print((math.factorial(i*(i))/math.factorial(i))**2)"
   ]
  },
  {
   "cell_type": "code",
   "execution_count": 6,
   "metadata": {},
   "outputs": [
    {
     "output_type": "stream",
     "name": "stdout",
     "text": [
      "A Q J J 9 7 6 6 5 3 \n"
     ]
    },
    {
     "output_type": "execute_result",
     "data": {
      "text/plain": [
       "<matplotlib.image.AxesImage at 0x54c2c08>"
      ]
     },
     "metadata": {},
     "execution_count": 6
    },
    {
     "output_type": "display_data",
     "data": {
      "text/plain": "<Figure size 432x288 with 1 Axes>",
      "image/svg+xml": "<?xml version=\"1.0\" encoding=\"utf-8\" standalone=\"no\"?>\r\n<!DOCTYPE svg PUBLIC \"-//W3C//DTD SVG 1.1//EN\"\r\n  \"http://www.w3.org/Graphics/SVG/1.1/DTD/svg11.dtd\">\r\n<!-- Created with matplotlib (https://matplotlib.org/) -->\r\n<svg height=\"248.518125pt\" version=\"1.1\" viewBox=\"0 0 150.093 248.518125\" width=\"150.093pt\" xmlns=\"http://www.w3.org/2000/svg\" xmlns:xlink=\"http://www.w3.org/1999/xlink\">\r\n <metadata>\r\n  <rdf:RDF xmlns:cc=\"http://creativecommons.org/ns#\" xmlns:dc=\"http://purl.org/dc/elements/1.1/\" xmlns:rdf=\"http://www.w3.org/1999/02/22-rdf-syntax-ns#\">\r\n   <cc:Work>\r\n    <dc:type rdf:resource=\"http://purl.org/dc/dcmitype/StillImage\"/>\r\n    <dc:date>2021-04-14T15:46:02.797074</dc:date>\r\n    <dc:format>image/svg+xml</dc:format>\r\n    <dc:creator>\r\n     <cc:Agent>\r\n      <dc:title>Matplotlib v3.3.0, https://matplotlib.org/</dc:title>\r\n     </cc:Agent>\r\n    </dc:creator>\r\n   </cc:Work>\r\n  </rdf:RDF>\r\n </metadata>\r\n <defs>\r\n  <style type=\"text/css\">*{stroke-linecap:butt;stroke-linejoin:round;}</style>\r\n </defs>\r\n <g id=\"figure_1\">\r\n  <g id=\"patch_1\">\r\n   <path d=\"M 0 248.518125 \r\nL 150.093 248.518125 \r\nL 150.093 0 \r\nL 0 0 \r\nz\r\n\" style=\"fill:none;\"/>\r\n  </g>\r\n  <g id=\"axes_1\">\r\n   <g id=\"patch_2\">\r\n    <path d=\"M 26.925 224.64 \r\nL 142.893 224.64 \r\nL 142.893 7.2 \r\nL 26.925 7.2 \r\nz\r\n\" style=\"fill:#ffffff;\"/>\r\n   </g>\r\n   <g clip-path=\"url(#p5806d78532)\">\r\n    <image height=\"218\" id=\"imageb402488d38\" transform=\"scale(1 -1)translate(0 -218)\" width=\"116\" x=\"26.925\" xlink:href=\"data:image/png;base64,\r\niVBORw0KGgoAAAANSUhEUgAAAHQAAADaCAYAAAB3jGa5AAACd0lEQVR4nO3dwU2EUBRAUTBU4doCLGISG5hm7cIqtAoz9vDBIf9yzp5AuHmrlw/rbb0/FjJezn4AjiVojKAxgsYIGiNojKAxgsYIGiNojKAxgsYIGiNozPr78za0Pvt4fT/4UTiCCY0RNEbQGEFjBI0RNEbQGEFjBI0RNEbQGEFjBI3ZrrI1+fz+evo9z3i3JjRG0BhBYwSNETRG0BhBYwSNETRG0BhBYwSNETRG0BiHlWJMaIygMYLGCBojaIygMYLGCBojaIygMYLGCBojaMzwtmWPMzY1o4eVZtsqmdAYQWMEjRE0RtAYQWMEjRE0RtAYQWMEjRE0RtAYQWO20QtnWyuN2vONQN/6YzdBYwSNETRG0BhBYwSNETRG0BhBYwSNETRG0JjL/Flp1Gzvx4TGCBojaIygMYLGCBojaIygMYLGCBojaIygMYLGCBrjz0oxJjRG0BhBYwSNETRG0BhBYwSNETRG0BhBYwSNETTmMoeV/FmJKQkaI2iMoDGCxggaI2iMoDGCxggaI2iMoDGCxggaM3xYaY/ZVlIzMaExgsYIGiNojKAxgsYIGiNojKAxgsYIGiNojKAx2+iFs21MHFZiSoLGCBojaIygMYLGCBojaIygMYLGCBojaIygMYLGDK/PrmJ07bYs56zeTGiMoDGCxggaI2iMoDGCxggaI2iMoDGCxggaI2jMelvvT/80HP/HhMYIGiNojKAxgsYIGiNojKAxgsYIGiNojKAxgsYIGiNojKAxgsYIGiNojKAxgsYIGiNojKAxgsYIGiNojKAxgsYIGiNojKAxgsYIGiNojKAxgsYIGiNojKAxgsYIGiNozB+lwSxIj22mLgAAAABJRU5ErkJggg==\" y=\"-6.64\"/>\r\n   </g>\r\n   <g id=\"matplotlib.axis_1\">\r\n    <g id=\"xtick_1\">\r\n     <g id=\"line2d_1\">\r\n      <defs>\r\n       <path d=\"M 0 0 \r\nL 0 3.5 \r\n\" id=\"md5f6788e0d\" style=\"stroke:#000000;stroke-width:0.8;\"/>\r\n      </defs>\r\n      <g>\r\n       <use style=\"stroke:#000000;stroke-width:0.8;\" x=\"34.173\" xlink:href=\"#md5f6788e0d\" y=\"224.64\"/>\r\n      </g>\r\n     </g>\r\n     <g id=\"text_1\">\r\n      <!-- 0 -->\r\n      <g transform=\"translate(30.99175 239.238437)scale(0.1 -0.1)\">\r\n       <defs>\r\n        <path d=\"M 31.78125 66.40625 \r\nQ 24.171875 66.40625 20.328125 58.90625 \r\nQ 16.5 51.421875 16.5 36.375 \r\nQ 16.5 21.390625 20.328125 13.890625 \r\nQ 24.171875 6.390625 31.78125 6.390625 \r\nQ 39.453125 6.390625 43.28125 13.890625 \r\nQ 47.125 21.390625 47.125 36.375 \r\nQ 47.125 51.421875 43.28125 58.90625 \r\nQ 39.453125 66.40625 31.78125 66.40625 \r\nz\r\nM 31.78125 74.21875 \r\nQ 44.046875 74.21875 50.515625 64.515625 \r\nQ 56.984375 54.828125 56.984375 36.375 \r\nQ 56.984375 17.96875 50.515625 8.265625 \r\nQ 44.046875 -1.421875 31.78125 -1.421875 \r\nQ 19.53125 -1.421875 13.0625 8.265625 \r\nQ 6.59375 17.96875 6.59375 36.375 \r\nQ 6.59375 54.828125 13.0625 64.515625 \r\nQ 19.53125 74.21875 31.78125 74.21875 \r\nz\r\n\" id=\"DejaVuSans-48\"/>\r\n       </defs>\r\n       <use xlink:href=\"#DejaVuSans-48\"/>\r\n      </g>\r\n     </g>\r\n    </g>\r\n    <g id=\"xtick_2\">\r\n     <g id=\"line2d_2\">\r\n      <g>\r\n       <use style=\"stroke:#000000;stroke-width:0.8;\" x=\"106.653\" xlink:href=\"#md5f6788e0d\" y=\"224.64\"/>\r\n      </g>\r\n     </g>\r\n     <g id=\"text_2\">\r\n      <!-- 5 -->\r\n      <g transform=\"translate(103.47175 239.238437)scale(0.1 -0.1)\">\r\n       <defs>\r\n        <path d=\"M 10.796875 72.90625 \r\nL 49.515625 72.90625 \r\nL 49.515625 64.59375 \r\nL 19.828125 64.59375 \r\nL 19.828125 46.734375 \r\nQ 21.96875 47.46875 24.109375 47.828125 \r\nQ 26.265625 48.1875 28.421875 48.1875 \r\nQ 40.625 48.1875 47.75 41.5 \r\nQ 54.890625 34.8125 54.890625 23.390625 \r\nQ 54.890625 11.625 47.5625 5.09375 \r\nQ 40.234375 -1.421875 26.90625 -1.421875 \r\nQ 22.3125 -1.421875 17.546875 -0.640625 \r\nQ 12.796875 0.140625 7.71875 1.703125 \r\nL 7.71875 11.625 \r\nQ 12.109375 9.234375 16.796875 8.0625 \r\nQ 21.484375 6.890625 26.703125 6.890625 \r\nQ 35.15625 6.890625 40.078125 11.328125 \r\nQ 45.015625 15.765625 45.015625 23.390625 \r\nQ 45.015625 31 40.078125 35.4375 \r\nQ 35.15625 39.890625 26.703125 39.890625 \r\nQ 22.75 39.890625 18.8125 39.015625 \r\nQ 14.890625 38.140625 10.796875 36.28125 \r\nz\r\n\" id=\"DejaVuSans-53\"/>\r\n       </defs>\r\n       <use xlink:href=\"#DejaVuSans-53\"/>\r\n      </g>\r\n     </g>\r\n    </g>\r\n   </g>\r\n   <g id=\"matplotlib.axis_2\">\r\n    <g id=\"ytick_1\">\r\n     <g id=\"line2d_3\">\r\n      <defs>\r\n       <path d=\"M 0 0 \r\nL -3.5 0 \r\n\" id=\"mf42a3215c7\" style=\"stroke:#000000;stroke-width:0.8;\"/>\r\n      </defs>\r\n      <g>\r\n       <use style=\"stroke:#000000;stroke-width:0.8;\" x=\"26.925\" xlink:href=\"#mf42a3215c7\" y=\"14.448\"/>\r\n      </g>\r\n     </g>\r\n     <g id=\"text_3\">\r\n      <!-- 0 -->\r\n      <g transform=\"translate(13.5625 18.247219)scale(0.1 -0.1)\">\r\n       <use xlink:href=\"#DejaVuSans-48\"/>\r\n      </g>\r\n     </g>\r\n    </g>\r\n    <g id=\"ytick_2\">\r\n     <g id=\"line2d_4\">\r\n      <g>\r\n       <use style=\"stroke:#000000;stroke-width:0.8;\" x=\"26.925\" xlink:href=\"#mf42a3215c7\" y=\"43.44\"/>\r\n      </g>\r\n     </g>\r\n     <g id=\"text_4\">\r\n      <!-- 2 -->\r\n      <g transform=\"translate(13.5625 47.239219)scale(0.1 -0.1)\">\r\n       <defs>\r\n        <path d=\"M 19.1875 8.296875 \r\nL 53.609375 8.296875 \r\nL 53.609375 0 \r\nL 7.328125 0 \r\nL 7.328125 8.296875 \r\nQ 12.9375 14.109375 22.625 23.890625 \r\nQ 32.328125 33.6875 34.8125 36.53125 \r\nQ 39.546875 41.84375 41.421875 45.53125 \r\nQ 43.3125 49.21875 43.3125 52.78125 \r\nQ 43.3125 58.59375 39.234375 62.25 \r\nQ 35.15625 65.921875 28.609375 65.921875 \r\nQ 23.96875 65.921875 18.8125 64.3125 \r\nQ 13.671875 62.703125 7.8125 59.421875 \r\nL 7.8125 69.390625 \r\nQ 13.765625 71.78125 18.9375 73 \r\nQ 24.125 74.21875 28.421875 74.21875 \r\nQ 39.75 74.21875 46.484375 68.546875 \r\nQ 53.21875 62.890625 53.21875 53.421875 \r\nQ 53.21875 48.921875 51.53125 44.890625 \r\nQ 49.859375 40.875 45.40625 35.40625 \r\nQ 44.1875 33.984375 37.640625 27.21875 \r\nQ 31.109375 20.453125 19.1875 8.296875 \r\nz\r\n\" id=\"DejaVuSans-50\"/>\r\n       </defs>\r\n       <use xlink:href=\"#DejaVuSans-50\"/>\r\n      </g>\r\n     </g>\r\n    </g>\r\n    <g id=\"ytick_3\">\r\n     <g id=\"line2d_5\">\r\n      <g>\r\n       <use style=\"stroke:#000000;stroke-width:0.8;\" x=\"26.925\" xlink:href=\"#mf42a3215c7\" y=\"72.432\"/>\r\n      </g>\r\n     </g>\r\n     <g id=\"text_5\">\r\n      <!-- 4 -->\r\n      <g transform=\"translate(13.5625 76.231219)scale(0.1 -0.1)\">\r\n       <defs>\r\n        <path d=\"M 37.796875 64.3125 \r\nL 12.890625 25.390625 \r\nL 37.796875 25.390625 \r\nz\r\nM 35.203125 72.90625 \r\nL 47.609375 72.90625 \r\nL 47.609375 25.390625 \r\nL 58.015625 25.390625 \r\nL 58.015625 17.1875 \r\nL 47.609375 17.1875 \r\nL 47.609375 0 \r\nL 37.796875 0 \r\nL 37.796875 17.1875 \r\nL 4.890625 17.1875 \r\nL 4.890625 26.703125 \r\nz\r\n\" id=\"DejaVuSans-52\"/>\r\n       </defs>\r\n       <use xlink:href=\"#DejaVuSans-52\"/>\r\n      </g>\r\n     </g>\r\n    </g>\r\n    <g id=\"ytick_4\">\r\n     <g id=\"line2d_6\">\r\n      <g>\r\n       <use style=\"stroke:#000000;stroke-width:0.8;\" x=\"26.925\" xlink:href=\"#mf42a3215c7\" y=\"101.424\"/>\r\n      </g>\r\n     </g>\r\n     <g id=\"text_6\">\r\n      <!-- 6 -->\r\n      <g transform=\"translate(13.5625 105.223219)scale(0.1 -0.1)\">\r\n       <defs>\r\n        <path d=\"M 33.015625 40.375 \r\nQ 26.375 40.375 22.484375 35.828125 \r\nQ 18.609375 31.296875 18.609375 23.390625 \r\nQ 18.609375 15.53125 22.484375 10.953125 \r\nQ 26.375 6.390625 33.015625 6.390625 \r\nQ 39.65625 6.390625 43.53125 10.953125 \r\nQ 47.40625 15.53125 47.40625 23.390625 \r\nQ 47.40625 31.296875 43.53125 35.828125 \r\nQ 39.65625 40.375 33.015625 40.375 \r\nz\r\nM 52.59375 71.296875 \r\nL 52.59375 62.3125 \r\nQ 48.875 64.0625 45.09375 64.984375 \r\nQ 41.3125 65.921875 37.59375 65.921875 \r\nQ 27.828125 65.921875 22.671875 59.328125 \r\nQ 17.53125 52.734375 16.796875 39.40625 \r\nQ 19.671875 43.65625 24.015625 45.921875 \r\nQ 28.375 48.1875 33.59375 48.1875 \r\nQ 44.578125 48.1875 50.953125 41.515625 \r\nQ 57.328125 34.859375 57.328125 23.390625 \r\nQ 57.328125 12.15625 50.6875 5.359375 \r\nQ 44.046875 -1.421875 33.015625 -1.421875 \r\nQ 20.359375 -1.421875 13.671875 8.265625 \r\nQ 6.984375 17.96875 6.984375 36.375 \r\nQ 6.984375 53.65625 15.1875 63.9375 \r\nQ 23.390625 74.21875 37.203125 74.21875 \r\nQ 40.921875 74.21875 44.703125 73.484375 \r\nQ 48.484375 72.75 52.59375 71.296875 \r\nz\r\n\" id=\"DejaVuSans-54\"/>\r\n       </defs>\r\n       <use xlink:href=\"#DejaVuSans-54\"/>\r\n      </g>\r\n     </g>\r\n    </g>\r\n    <g id=\"ytick_5\">\r\n     <g id=\"line2d_7\">\r\n      <g>\r\n       <use style=\"stroke:#000000;stroke-width:0.8;\" x=\"26.925\" xlink:href=\"#mf42a3215c7\" y=\"130.416\"/>\r\n      </g>\r\n     </g>\r\n     <g id=\"text_7\">\r\n      <!-- 8 -->\r\n      <g transform=\"translate(13.5625 134.215219)scale(0.1 -0.1)\">\r\n       <defs>\r\n        <path d=\"M 31.78125 34.625 \r\nQ 24.75 34.625 20.71875 30.859375 \r\nQ 16.703125 27.09375 16.703125 20.515625 \r\nQ 16.703125 13.921875 20.71875 10.15625 \r\nQ 24.75 6.390625 31.78125 6.390625 \r\nQ 38.8125 6.390625 42.859375 10.171875 \r\nQ 46.921875 13.96875 46.921875 20.515625 \r\nQ 46.921875 27.09375 42.890625 30.859375 \r\nQ 38.875 34.625 31.78125 34.625 \r\nz\r\nM 21.921875 38.8125 \r\nQ 15.578125 40.375 12.03125 44.71875 \r\nQ 8.5 49.078125 8.5 55.328125 \r\nQ 8.5 64.0625 14.71875 69.140625 \r\nQ 20.953125 74.21875 31.78125 74.21875 \r\nQ 42.671875 74.21875 48.875 69.140625 \r\nQ 55.078125 64.0625 55.078125 55.328125 \r\nQ 55.078125 49.078125 51.53125 44.71875 \r\nQ 48 40.375 41.703125 38.8125 \r\nQ 48.828125 37.15625 52.796875 32.3125 \r\nQ 56.78125 27.484375 56.78125 20.515625 \r\nQ 56.78125 9.90625 50.3125 4.234375 \r\nQ 43.84375 -1.421875 31.78125 -1.421875 \r\nQ 19.734375 -1.421875 13.25 4.234375 \r\nQ 6.78125 9.90625 6.78125 20.515625 \r\nQ 6.78125 27.484375 10.78125 32.3125 \r\nQ 14.796875 37.15625 21.921875 38.8125 \r\nz\r\nM 18.3125 54.390625 \r\nQ 18.3125 48.734375 21.84375 45.5625 \r\nQ 25.390625 42.390625 31.78125 42.390625 \r\nQ 38.140625 42.390625 41.71875 45.5625 \r\nQ 45.3125 48.734375 45.3125 54.390625 \r\nQ 45.3125 60.0625 41.71875 63.234375 \r\nQ 38.140625 66.40625 31.78125 66.40625 \r\nQ 25.390625 66.40625 21.84375 63.234375 \r\nQ 18.3125 60.0625 18.3125 54.390625 \r\nz\r\n\" id=\"DejaVuSans-56\"/>\r\n       </defs>\r\n       <use xlink:href=\"#DejaVuSans-56\"/>\r\n      </g>\r\n     </g>\r\n    </g>\r\n    <g id=\"ytick_6\">\r\n     <g id=\"line2d_8\">\r\n      <g>\r\n       <use style=\"stroke:#000000;stroke-width:0.8;\" x=\"26.925\" xlink:href=\"#mf42a3215c7\" y=\"159.408\"/>\r\n      </g>\r\n     </g>\r\n     <g id=\"text_8\">\r\n      <!-- 10 -->\r\n      <g transform=\"translate(7.2 163.207219)scale(0.1 -0.1)\">\r\n       <defs>\r\n        <path d=\"M 12.40625 8.296875 \r\nL 28.515625 8.296875 \r\nL 28.515625 63.921875 \r\nL 10.984375 60.40625 \r\nL 10.984375 69.390625 \r\nL 28.421875 72.90625 \r\nL 38.28125 72.90625 \r\nL 38.28125 8.296875 \r\nL 54.390625 8.296875 \r\nL 54.390625 0 \r\nL 12.40625 0 \r\nz\r\n\" id=\"DejaVuSans-49\"/>\r\n       </defs>\r\n       <use xlink:href=\"#DejaVuSans-49\"/>\r\n       <use x=\"63.623047\" xlink:href=\"#DejaVuSans-48\"/>\r\n      </g>\r\n     </g>\r\n    </g>\r\n    <g id=\"ytick_7\">\r\n     <g id=\"line2d_9\">\r\n      <g>\r\n       <use style=\"stroke:#000000;stroke-width:0.8;\" x=\"26.925\" xlink:href=\"#mf42a3215c7\" y=\"188.4\"/>\r\n      </g>\r\n     </g>\r\n     <g id=\"text_9\">\r\n      <!-- 12 -->\r\n      <g transform=\"translate(7.2 192.199219)scale(0.1 -0.1)\">\r\n       <use xlink:href=\"#DejaVuSans-49\"/>\r\n       <use x=\"63.623047\" xlink:href=\"#DejaVuSans-50\"/>\r\n      </g>\r\n     </g>\r\n    </g>\r\n    <g id=\"ytick_8\">\r\n     <g id=\"line2d_10\">\r\n      <g>\r\n       <use style=\"stroke:#000000;stroke-width:0.8;\" x=\"26.925\" xlink:href=\"#mf42a3215c7\" y=\"217.392\"/>\r\n      </g>\r\n     </g>\r\n     <g id=\"text_10\">\r\n      <!-- 14 -->\r\n      <g transform=\"translate(7.2 221.191219)scale(0.1 -0.1)\">\r\n       <use xlink:href=\"#DejaVuSans-49\"/>\r\n       <use x=\"63.623047\" xlink:href=\"#DejaVuSans-52\"/>\r\n      </g>\r\n     </g>\r\n    </g>\r\n   </g>\r\n   <g id=\"patch_3\">\r\n    <path d=\"M 26.925 224.64 \r\nL 26.925 7.2 \r\n\" style=\"fill:none;stroke:#000000;stroke-linecap:square;stroke-linejoin:miter;stroke-width:0.8;\"/>\r\n   </g>\r\n   <g id=\"patch_4\">\r\n    <path d=\"M 142.893 224.64 \r\nL 142.893 7.2 \r\n\" style=\"fill:none;stroke:#000000;stroke-linecap:square;stroke-linejoin:miter;stroke-width:0.8;\"/>\r\n   </g>\r\n   <g id=\"patch_5\">\r\n    <path d=\"M 26.925 224.64 \r\nL 142.893 224.64 \r\n\" style=\"fill:none;stroke:#000000;stroke-linecap:square;stroke-linejoin:miter;stroke-width:0.8;\"/>\r\n   </g>\r\n   <g id=\"patch_6\">\r\n    <path d=\"M 26.925 7.2 \r\nL 142.893 7.2 \r\n\" style=\"fill:none;stroke:#000000;stroke-linecap:square;stroke-linejoin:miter;stroke-width:0.8;\"/>\r\n   </g>\r\n  </g>\r\n </g>\r\n <defs>\r\n  <clipPath id=\"p5806d78532\">\r\n   <rect height=\"217.44\" width=\"115.968\" x=\"26.925\" y=\"7.2\"/>\r\n  </clipPath>\r\n </defs>\r\n</svg>\r\n",
      "image/png": "[encoded data removed]"
     },
     "metadata": {
      "needs_background": "light"
     }
    }
   ],
   "source": [
    "from matplotlib import pyplot as plt\n",
    "a=cpu.Situation(None, 10)\n",
    "print(a.melst)\n",
    "z, x, c, v = a.transfer()\n",
    "for i, j in zip(z,x):\n",
    "    i.extend(j)\n",
    "plt.imshow(z)"
   ]
  },
  {
   "cell_type": "code",
   "execution_count": 2,
   "metadata": {},
   "outputs": [
    {
     "output_type": "stream",
     "name": "stdout",
     "text": [
      "['大王', 'A', 'K', 'J', '8', '6', '4', '3']\n"
     ]
    }
   ],
   "source": [
    "b=a.melst.getPossible(show=True)"
   ]
  },
  {
   "cell_type": "code",
   "execution_count": 3,
   "metadata": {},
   "outputs": [
    {
     "output_type": "stream",
     "name": "stdout",
     "text": [
      "[(0, 1, 0, 0), (0, 1, 3, 0), (0, 1, 4, 0), (0, 1, 6, 0), (0, 1, 9, 0), (0, 1, 11, 0), (0, 1, 13, 0), (0, 1, 14, 0)]\n"
     ]
    }
   ],
   "source": [
    "print(b)"
   ]
  },
  {
   "cell_type": "code",
   "execution_count": 4,
   "metadata": {},
   "outputs": [
    {
     "output_type": "execute_result",
     "data": {
      "text/plain": [
       "([[1, 0, 0, 0],\n",
       "  [0, 0, 0, 0],\n",
       "  [0, 0, 0, 0],\n",
       "  [1, 0, 0, 0],\n",
       "  [1, 0, 0, 0],\n",
       "  [1, 0, 0, 0],\n",
       "  [0, 0, 0, 0],\n",
       "  [0, 0, 0, 0],\n",
       "  [0, 0, 0, 0],\n",
       "  [0, 0, 0, 0],\n",
       "  [0, 0, 0, 0],\n",
       "  [0, 0, 0, 0],\n",
       "  [0, 0, 0, 0],\n",
       "  [0, 0, 0, 0],\n",
       "  [0, 0, 0, 0]],\n",
       " [[0, 0, 0, 0],\n",
       "  [1, 0, 0, 0],\n",
       "  [1, 0, 0, 0],\n",
       "  [1, 0, 0, 0],\n",
       "  [1, 0, 0, 0],\n",
       "  [1, 0, 0, 0],\n",
       "  [0, 0, 0, 0],\n",
       "  [0, 0, 0, 0],\n",
       "  [0, 0, 0, 0],\n",
       "  [0, 0, 0, 0],\n",
       "  [0, 0, 0, 0],\n",
       "  [0, 0, 0, 0],\n",
       "  [0, 0, 0, 0],\n",
       "  [0, 0, 0, 0],\n",
       "  [0, 0, 0, 0]])"
      ]
     },
     "metadata": {},
     "execution_count": 4
    }
   ],
   "source": [
    "a.transfer()"
   ]
  },
  {
   "cell_type": "code",
   "execution_count": 7,
   "metadata": {},
   "outputs": [],
   "source": [
    "def dd(*args):\n",
    "    return 1, args"
   ]
  },
  {
   "cell_type": "code",
   "execution_count": 8,
   "metadata": {},
   "outputs": [
    {
     "output_type": "execute_result",
     "data": {
      "text/plain": [
       "(1, ())"
      ]
     },
     "metadata": {},
     "execution_count": 8
    }
   ],
   "source": [
    "dd()"
   ]
  },
  {
   "cell_type": "code",
   "execution_count": 2,
   "metadata": {},
   "outputs": [],
   "source": [
    "from itertools import chain\n",
    "def condition(me, en, no, nu):\n",
    "    '''将当前抽象牌型，己方持牌，敌方持牌翻译成神经网络可接受的格式\n",
    "    如更换神经网络，需要更改此函数以适应网络输入\n",
    "    '''\n",
    "    otp = []\n",
    "    otp.extend(chain.from_iterable(me))\n",
    "    otp.extend(chain.from_iterable(en))\n",
    "    otp.extend(list(no))\n",
    "    otp.extend(list(nu))\n",
    "    return otp"
   ]
  },
  {
   "cell_type": "code",
   "execution_count": 5,
   "metadata": {},
   "outputs": [],
   "source": [
    "a=[]\n",
    "a.extend(chain.from_iterable([[0,9],[8,5]]))"
   ]
  },
  {
   "cell_type": "code",
   "execution_count": 6,
   "metadata": {},
   "outputs": [
    {
     "output_type": "execute_result",
     "data": {
      "text/plain": [
       "[0, 9, 8, 5]"
      ]
     },
     "metadata": {},
     "execution_count": 6
    }
   ],
   "source": [
    "a"
   ]
  },
  {
   "cell_type": "code",
   "execution_count": 6,
   "metadata": {},
   "outputs": [
    {
     "output_type": "stream",
     "name": "stdout",
     "text": [
      "[1, 2, 3, [5, 6, 7]] [1, 2, 3, [5, 9, 7]]\n"
     ]
    }
   ],
   "source": [
    "import copy\n",
    "ap = [1,2,3,[5,6,7]]\n",
    "bp = copy.deepcopy(ap)\n",
    "bp[3][1] = 9\n",
    "print(ap, bp)"
   ]
  },
  {
   "cell_type": "code",
   "execution_count": 4,
   "metadata": {},
   "outputs": [
    {
     "output_type": "execute_result",
     "data": {
      "text/plain": [
       "'2021-08-29_12:14:41'"
      ]
     },
     "metadata": {},
     "execution_count": 4
    }
   ],
   "source": [
    "import time\n",
    "time.strftime(\"%Y-%m-%d_%H:%M:%S\")"
   ]
  },
  {
   "cell_type": "code",
   "execution_count": 22,
   "metadata": {},
   "outputs": [
    {
     "output_type": "execute_result",
     "data": {
      "text/plain": [
       "0"
      ]
     },
     "metadata": {},
     "execution_count": 22
    }
   ],
   "source": [
    "import os\n",
    "os.system(\"tada.wav\")"
   ]
  },
  {
   "cell_type": "code",
   "execution_count": 1,
   "metadata": {},
   "outputs": [
    {
     "output_type": "execute_result",
     "data": {
      "text/plain": [
       "'d:\\\\study\\\\uni notes\\\\08\\\\trai\\\\self\\\\doudizhu'"
      ]
     },
     "metadata": {},
     "execution_count": 1
    }
   ],
   "source": [
    "import sys\n",
    "sys.path[0]"
   ]
  },
  {
   "cell_type": "code",
   "execution_count": 8,
   "metadata": {},
   "outputs": [],
   "source": [
    "import tensorflow as tf\n",
    "import numpy as np\n",
    "from tensorflow.keras import layers\n",
    "from tensorflow.keras.models import Sequential, load_model\n",
    "from tensorflow.keras import metrics\n",
    "def round_acc(y_true, y_pred):\n",
    "    return metrics.binary_crossentropy(tf.round(y_true), tf.round(y_pred))\n",
    "\n",
    "model = load_model('D:/study/uni notes/08/trai/self/doudizhu/cpu/2021-08-30_12-47-28/2021-08-30_14-50-33_model.h5', custom_objects={'round_acc':round_acc})"
   ]
  },
  {
   "cell_type": "code",
   "execution_count": 32,
   "metadata": {},
   "outputs": [
    {
     "output_type": "stream",
     "name": "stdout",
     "text": [
      "I'm Thread-29 @ 0I'm Thread-30 @ 0\n",
      "\n",
      "I'm Thread-33 @ 0I'm Thread-31 @ 0\n",
      "\n",
      "I'm Thread-32 @ 0\n",
      "I'm Thread-29 @ 1\n",
      "I'm Thread-30 @ 1\n",
      "I'm Thread-31 @ 1\n",
      "I'm Thread-33 @ 1\n",
      "I'm Thread-34 @ 0\n",
      "I'm Thread-35 @ 0I'm Thread-38 @ 0I'm Thread-32 @ 1I'm Thread-36 @ 0\n",
      "\n",
      "\n",
      "\n",
      "I'm Thread-37 @ 0\n",
      "I'm Thread-29 @ 2\n",
      "I'm Thread-30 @ 2\n",
      "I'm Thread-31 @ 2\n",
      "I'm Thread-33 @ 2\n",
      "I'm Thread-34 @ 1\n",
      "I'm Thread-35 @ 1I'm Thread-38 @ 1\n",
      "\n",
      "I'm Thread-36 @ 1\n",
      "I'm Thread-32 @ 2\n",
      "I'm Thread-37 @ 1\n",
      "I'm Thread-34 @ 2\n",
      "I'm Thread-38 @ 2\n",
      "I'm Thread-35 @ 2I'm Thread-36 @ 2\n",
      "\n",
      "I'm Thread-37 @ 2\n"
     ]
    }
   ],
   "source": [
    "import threading\n",
    "import time\n",
    "\n",
    "class MyThread(threading.Thread):\n",
    "    def run(self):\n",
    "        for i in range(3):\n",
    "            time.sleep(1)\n",
    "            msg = \"I'm \"+self.name+' @ '+str(i)\n",
    "            print(msg)\n",
    "def test():\n",
    "    for i in range(5):\n",
    "        t = MyThread()\n",
    "        t.start()\n",
    "\n",
    "test()"
   ]
  },
  {
   "cell_type": "code",
   "execution_count": 3,
   "metadata": {},
   "outputs": [
    {
     "output_type": "stream",
     "name": "stdout",
     "text": [
      "222\n5\n262\n"
     ]
    }
   ],
   "source": [
    "def thread_counter(function):\n",
    "    def wrapper(*args, **kwargs):\n",
    "        print(222)\n",
    "        res = function(*args, **kwargs)\n",
    "        print(262)\n",
    "        return res\n",
    "    return wrapper\n",
    "\n",
    "@thread_counter\n",
    "def dff(inp):\n",
    "    print(inp)\n",
    "\n",
    "dff(5)"
   ]
  },
  {
   "cell_type": "code",
   "execution_count": 6,
   "metadata": {},
   "outputs": [
    {
     "output_type": "stream",
     "name": "stdout",
     "text": [
      "1234\n"
     ]
    }
   ],
   "source": [
    "print('asddd', end='')\n",
    "print('\\r1234')"
   ]
  },
  {
   "cell_type": "code",
   "execution_count": 28,
   "metadata": {},
   "outputs": [
    {
     "output_type": "execute_result",
     "data": {
      "text/plain": [
       "array([[[0, 1, 2, 3],\n",
       "        [0, 1, 2, 3]],\n",
       "\n",
       "       [[0, 1, 2, 3],\n",
       "        [0, 1, 2, 3]],\n",
       "\n",
       "       [[0, 1, 2, 3],\n",
       "        [0, 1, 2, 3]],\n",
       "\n",
       "       [[0, 1, 2, 3],\n",
       "        [0, 1, 2, 3]],\n",
       "\n",
       "       [[0, 1, 2, 3],\n",
       "        [0, 1, 2, 3]],\n",
       "\n",
       "       [[0, 1, 2, 3],\n",
       "        [0, 1, 2, 3]],\n",
       "\n",
       "       [[0, 1, 2, 3],\n",
       "        [0, 1, 2, 3]],\n",
       "\n",
       "       [[0, 1, 2, 3],\n",
       "        [0, 1, 2, 3]],\n",
       "\n",
       "       [[0, 1, 2, 3],\n",
       "        [0, 1, 2, 3]],\n",
       "\n",
       "       [[0, 1, 2, 3],\n",
       "        [0, 1, 2, 3]],\n",
       "\n",
       "       [[0, 1, 2, 3],\n",
       "        [0, 1, 2, 3]],\n",
       "\n",
       "       [[0, 1, 2, 3],\n",
       "        [0, 1, 2, 3]],\n",
       "\n",
       "       [[0, 1, 2, 3],\n",
       "        [0, 1, 2, 3]],\n",
       "\n",
       "       [[0, 1, 2, 3],\n",
       "        [0, 1, 2, 3]],\n",
       "\n",
       "       [[0, 1, 2, 3],\n",
       "        [0, 1, 2, 3]]])"
      ]
     },
     "metadata": {},
     "execution_count": 28
    }
   ],
   "source": [
    "import numpy as np\n",
    "a = np.array([[[i for i in range(4)] for j in range(15)] for k in range(2)])\n",
    "a.transpose(1,0,2)"
   ]
  },
  {
   "cell_type": "code",
   "execution_count": 29,
   "metadata": {},
   "outputs": [],
   "source": [
    "[1,23].reverse()"
   ]
  },
  {
   "cell_type": "code",
   "execution_count": 5,
   "metadata": {},
   "outputs": [],
   "source": [
    "def longestStrictPalindrome(input):\n",
    "    n = len(input)\n",
    "    dp = [ [0]*i + [1] + [0]*(n-i-1)  for i in range(n) ]\n",
    "    count = 0\n",
    "    record = ''\n",
    "    if n == 0:\n",
    "        return \"\"\n",
    "    if n == 1:\n",
    "        return input[0]\n",
    "    for j in range(1,n):\n",
    "        for i in range(j):\n",
    "            if j - i > 1:\n",
    "                if dp[i+1][j-1] and input[i]==input[j]:\n",
    "                    dp[i][j] = 1\n",
    "                    if j-i+1>count:\n",
    "                        count = j-i+1\n",
    "                        record = input[i:j+1]\n",
    "                else:\n",
    "                    continue\n",
    "            else:\n",
    "                if input[i]==input[j]:\n",
    "                    dp[i][j] = 1\n",
    "                    if j-i+1>count:\n",
    "                        count = j-i+1\n",
    "                        record = input[i:j+1]\n",
    "                else:\n",
    "                    continue\n",
    "    return record"
   ]
  },
  {
   "cell_type": "code",
   "execution_count": 9,
   "metadata": {},
   "outputs": [
    {
     "output_type": "execute_result",
     "data": {
      "text/plain": [
       "''"
      ]
     },
     "metadata": {},
     "execution_count": 9
    }
   ],
   "source": [
    "longestStrictPalindrome('abcab')"
   ]
  },
  {
   "cell_type": "code",
   "execution_count": null,
   "metadata": {},
   "outputs": [],
   "source": []
  }
 ],
 "metadata": {
  "language_info": {
   "codemirror_mode": {
    "name": "ipython",
    "version": 3
   },
   "file_extension": ".py",
   "mimetype": "text/x-python",
   "name": "python",
   "nbconvert_exporter": "python",
   "pygments_lexer": "ipython3",
   "version": "3.7.7"
  },
  "orig_nbformat": 2,
  "kernelspec": {
   "name": "python3",
   "display_name": "Python 3.7.7 64-bit ('tensorflow': conda)"
  },
  "metadata": {
   "interpreter": {
    "hash": "0aa66b553f575c766ebf8dae9865f08740f7a672498c10dd9d6d0f09d940d9df"
   }
  },
  "interpreter": {
   "hash": "0aa66b553f575c766ebf8dae9865f08740f7a672498c10dd9d6d0f09d940d9df"
  }
 },
 "nbformat": 4,
 "nbformat_minor": 2
}